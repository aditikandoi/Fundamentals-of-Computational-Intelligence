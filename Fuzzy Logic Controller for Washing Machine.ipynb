{
 "cells": [
  {
   "cell_type": "code",
   "execution_count": 1,
   "metadata": {},
   "outputs": [],
   "source": [
    "import pandas as pd\n",
    "import numpy as np"
   ]
  },
  {
   "cell_type": "code",
   "execution_count": 2,
   "metadata": {},
   "outputs": [
    {
     "name": "stdout",
     "output_type": "stream",
     "text": [
      "Enter the number of input parameters:2\n"
     ]
    }
   ],
   "source": [
    "input_number = int(input('Enter the number of input parameters:'))"
   ]
  },
  {
   "cell_type": "code",
   "execution_count": 3,
   "metadata": {},
   "outputs": [
    {
     "name": "stdout",
     "output_type": "stream",
     "text": [
      "Enter the input parameters:\n",
      "Enter the input parameter 1: Dirt\n",
      "Enter the input parameter 2: Grease\n"
     ]
    }
   ],
   "source": [
    "print('Enter the input parameters:')\n",
    "input_parameters = []\n",
    "for i in range(input_number):\n",
    "    i = input('Enter the input parameter ' + str(i+1) + ': ')\n",
    "    input_parameters.append(i)"
   ]
  },
  {
   "cell_type": "code",
   "execution_count": 4,
   "metadata": {},
   "outputs": [
    {
     "name": "stdout",
     "output_type": "stream",
     "text": [
      "Enter the output parameters:Washtime\n"
     ]
    }
   ],
   "source": [
    "output_parameters = input('Enter the output parameters:')"
   ]
  },
  {
   "cell_type": "code",
   "execution_count": 5,
   "metadata": {},
   "outputs": [
    {
     "name": "stdout",
     "output_type": "stream",
     "text": [
      "There are 3 descriptors for input parameters and 5 descriptors for output parameters\n"
     ]
    }
   ],
   "source": [
    "print('There are 3 descriptors for input parameters and 5 descriptors for output parameters')"
   ]
  },
  {
   "cell_type": "code",
   "execution_count": 6,
   "metadata": {},
   "outputs": [],
   "source": [
    "for i in range(input_number):\n",
    "    input_parameters[i] = ['Small ' + str(input_parameters[i]), 'Medium ' + str(input_parameters[i]), 'Large ' + str(input_parameters[i])]"
   ]
  },
  {
   "cell_type": "code",
   "execution_count": 7,
   "metadata": {},
   "outputs": [
    {
     "data": {
      "text/plain": [
       "[['Small Dirt', 'Medium Dirt', 'Large Dirt'],\n",
       " ['Small Grease', 'Medium Grease', 'Large Grease']]"
      ]
     },
     "execution_count": 7,
     "metadata": {},
     "output_type": "execute_result"
    }
   ],
   "source": [
    "input_parameters"
   ]
  },
  {
   "cell_type": "code",
   "execution_count": 8,
   "metadata": {},
   "outputs": [],
   "source": [
    "output_parameters = ['Very small', 'Small', 'Medium', 'Large', 'Very large']"
   ]
  },
  {
   "cell_type": "code",
   "execution_count": 9,
   "metadata": {},
   "outputs": [
    {
     "data": {
      "text/plain": [
       "['Very small', 'Small', 'Medium', 'Large', 'Very large']"
      ]
     },
     "execution_count": 9,
     "metadata": {},
     "output_type": "execute_result"
    }
   ],
   "source": [
    "output_parameters"
   ]
  },
  {
   "cell_type": "code",
   "execution_count": 10,
   "metadata": {},
   "outputs": [],
   "source": [
    "def dirt_function(x):\n",
    "    dirt_dict = dict()\n",
    "    if 0 <= x <= 50:\n",
    "        dirt_type = 'small'\n",
    "        u = (50-x)/50\n",
    "        dirt_dict[u] = dirt_type\n",
    "    if 0 <= x <= 50:\n",
    "        dirt_type = 'medium'\n",
    "        u = (x-50)/50\n",
    "        dirt_dict[u] = dirt_type\n",
    "    if 50 <= x <= 100:\n",
    "        dirt_type = 'medium'\n",
    "        u = (100-x)/50\n",
    "        dirt_dict[u] = dirt_type\n",
    "    if 50 <= x <= 100:\n",
    "        dirt_type = 'large'\n",
    "        u = (x-50)/50\n",
    "        dirt_dict[u] = dirt_type\n",
    "    return dirt_dict"
   ]
  },
  {
   "cell_type": "code",
   "execution_count": 11,
   "metadata": {},
   "outputs": [],
   "source": [
    "def grease_function(y):\n",
    "    grease_dict = dict()\n",
    "    if 0 <= y <= 50:\n",
    "        grease_type = 'small'\n",
    "        u = (50-y)/50\n",
    "        grease_dict[u] = grease_type\n",
    "    if 0 <= y <= 50:\n",
    "        grease_type = 'medium'\n",
    "        u = (y-50)/50\n",
    "        grease_dict[u] = grease_type\n",
    "    if 50 <= y <= 100:\n",
    "        grease_type = 'medium'\n",
    "        u = (100-y)/50\n",
    "        grease_dict[u] = grease_type\n",
    "    if 50 <= y <= 100:\n",
    "        grease_type = 'large'\n",
    "        u = (y-50)/50\n",
    "        grease_dict[u] = grease_type\n",
    "    return grease_dict "
   ]
  },
  {
   "cell_type": "code",
   "execution_count": 28,
   "metadata": {},
   "outputs": [],
   "source": [
    "def washtime_function(washtime_type, u):\n",
    "    if washtime_type == 'very_small':\n",
    "        z = 10 - (10*u) \n",
    "    elif washtime_type == 'small':\n",
    "        z1 = (10*u)\n",
    "        z2 = 20 - (10*u)\n",
    "        z = (z1 + z2) / 2\n",
    "    elif washtime_type == 'medium':\n",
    "        z1 = (10*u) +10\n",
    "        z2 = 30 - (10*u)\n",
    "        z = (z1 + z2) / 2\n",
    "    elif washtime_type == 'large':\n",
    "        z1 = (10*u) + 20\n",
    "        z2 = 40 - (10*u)\n",
    "        z = (z1 + z2) / 2\n",
    "    elif washtime_type == 'very_large':\n",
    "        z = (20*u) + 40\n",
    "    return z"
   ]
  },
  {
   "cell_type": "code",
   "execution_count": 29,
   "metadata": {},
   "outputs": [],
   "source": [
    "def rule_base(dirt_type, grease_type):\n",
    "    if dirt_type == 'small' and grease_type == 'small':\n",
    "        washtime_type = 'very_small'\n",
    "    elif dirt_type == 'small' and grease_type == 'medium':\n",
    "        washtime_type = 'medium'\n",
    "    elif dirt_type == 'small' and grease_type == 'large':\n",
    "        washtime_type = 'large'\n",
    "    elif dirt_type == 'medium' and grease_type == 'small':\n",
    "        washtime_type = 'medium'\n",
    "    elif dirt_type == 'medium' and grease_type == 'medium':\n",
    "        washtime_type = 'medium'\n",
    "    elif dirt_type == 'medium' and grease_type == 'large':\n",
    "        washtime_type = 'large'\n",
    "    elif dirt_type == 'large' and grease_type == 'small':\n",
    "        washtime_type = 'large'\n",
    "    elif dirt_type == 'large' and grease_type == 'medium':\n",
    "        washtime_type = 'large'\n",
    "    elif dirt_type == 'large' and grease_type == 'large':\n",
    "        washtime_type = 'very_large'\n",
    "    return washtime_type"
   ]
  },
  {
   "cell_type": "code",
   "execution_count": 30,
   "metadata": {},
   "outputs": [
    {
     "name": "stdout",
     "output_type": "stream",
     "text": [
      "Enter the dirt value: 70\n",
      "Enter the grease value: 90\n"
     ]
    }
   ],
   "source": [
    "dirt_result = {}\n",
    "grease_result = {}\n",
    "#from collections import defaultdict\n",
    "x = float(input('Enter the dirt value: '))\n",
    "y = float(input('Enter the grease value: '))\n",
    "dirt_result = dirt_function(x)\n",
    "grease_result = grease_function(y)\n",
    "#result.update(result1)"
   ]
  },
  {
   "cell_type": "code",
   "execution_count": 31,
   "metadata": {},
   "outputs": [
    {
     "data": {
      "text/plain": [
       "{0.2: 'medium', 0.8: 'large'}"
      ]
     },
     "execution_count": 31,
     "metadata": {},
     "output_type": "execute_result"
    }
   ],
   "source": [
    "grease_result"
   ]
  },
  {
   "cell_type": "code",
   "execution_count": 32,
   "metadata": {},
   "outputs": [
    {
     "data": {
      "text/plain": [
       "{0.6: 'medium', 0.4: 'large'}"
      ]
     },
     "execution_count": 32,
     "metadata": {},
     "output_type": "execute_result"
    }
   ],
   "source": [
    "dirt_result"
   ]
  },
  {
   "cell_type": "code",
   "execution_count": 33,
   "metadata": {},
   "outputs": [],
   "source": [
    "final_result = dict()\n",
    "values = []\n",
    "types = []\n",
    "for k1, v1 in dirt_result.items():\n",
    "    for k2, v2 in grease_result.items():\n",
    "        #print(k1)\n",
    "        #print(k2)\n",
    "        u = min(k1,k2)\n",
    "        #print(u)\n",
    "        answer = rule_base(v1,v2)\n",
    "        values.append(u)\n",
    "        types.append(answer)\n",
    "final_u = max(values)\n",
    "final_type = types[values.index(final_u)]"
   ]
  },
  {
   "cell_type": "code",
   "execution_count": 34,
   "metadata": {},
   "outputs": [
    {
     "data": {
      "text/plain": [
       "0.6"
      ]
     },
     "execution_count": 34,
     "metadata": {},
     "output_type": "execute_result"
    }
   ],
   "source": [
    "final_u"
   ]
  },
  {
   "cell_type": "code",
   "execution_count": 35,
   "metadata": {},
   "outputs": [
    {
     "data": {
      "text/plain": [
       "'large'"
      ]
     },
     "execution_count": 35,
     "metadata": {},
     "output_type": "execute_result"
    }
   ],
   "source": [
    "final_type"
   ]
  },
  {
   "cell_type": "code",
   "execution_count": 36,
   "metadata": {},
   "outputs": [
    {
     "name": "stdout",
     "output_type": "stream",
     "text": [
      "THE WASHTIME USED IS 30.0 MINUTES.\n"
     ]
    }
   ],
   "source": [
    "answer = washtime_function(final_type, final_u)\n",
    "#z1 = (10*final_u) + 20\n",
    "#z2 = 40 - (10*final_u)\n",
    "#z = (z1 + z2) / 2\n",
    "#z\n",
    "print('THE WASHTIME USED IS {} MINUTES.'.format(answer))"
   ]
  },
  {
   "cell_type": "code",
   "execution_count": 37,
   "metadata": {},
   "outputs": [
    {
     "data": {
      "text/plain": [
       "['medium', 'large', 'large', 'very_large']"
      ]
     },
     "execution_count": 37,
     "metadata": {},
     "output_type": "execute_result"
    }
   ],
   "source": [
    "types"
   ]
  },
  {
   "cell_type": "code",
   "execution_count": 38,
   "metadata": {},
   "outputs": [
    {
     "data": {
      "text/plain": [
       "[0.2, 0.6, 0.2, 0.4]"
      ]
     },
     "execution_count": 38,
     "metadata": {},
     "output_type": "execute_result"
    }
   ],
   "source": [
    "values"
   ]
  },
  {
   "cell_type": "code",
   "execution_count": null,
   "metadata": {},
   "outputs": [],
   "source": []
  }
 ],
 "metadata": {
  "kernelspec": {
   "display_name": "Python 3",
   "language": "python",
   "name": "python3"
  },
  "language_info": {
   "codemirror_mode": {
    "name": "ipython",
    "version": 3
   },
   "file_extension": ".py",
   "mimetype": "text/x-python",
   "name": "python",
   "nbconvert_exporter": "python",
   "pygments_lexer": "ipython3",
   "version": "3.7.4"
  }
 },
 "nbformat": 4,
 "nbformat_minor": 2
}
