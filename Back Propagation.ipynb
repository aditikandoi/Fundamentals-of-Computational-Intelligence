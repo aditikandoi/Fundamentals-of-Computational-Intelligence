{
 "cells": [
  {
   "cell_type": "code",
   "execution_count": 29,
   "metadata": {},
   "outputs": [],
   "source": [
    "import numpy as np\n",
    "import pandas as pd"
   ]
  },
  {
   "cell_type": "code",
   "execution_count": 30,
   "metadata": {},
   "outputs": [
    {
     "name": "stdout",
     "output_type": "stream",
     "text": [
      "Enter the number of input layers:2\n"
     ]
    }
   ],
   "source": [
    "input_number = int(input('Enter the number of input layers:'))"
   ]
  },
  {
   "cell_type": "code",
   "execution_count": 31,
   "metadata": {},
   "outputs": [
    {
     "name": "stdout",
     "output_type": "stream",
     "text": [
      "Enter the number of hidden layers:1\n"
     ]
    }
   ],
   "source": [
    "hidden_number = int(input('Enter the number of hidden layers:'))"
   ]
  },
  {
   "cell_type": "code",
   "execution_count": 32,
   "metadata": {},
   "outputs": [
    {
     "name": "stdout",
     "output_type": "stream",
     "text": [
      "Enter the number of output layers:1\n"
     ]
    }
   ],
   "source": [
    "output_number = int(input('Enter the number of output layers:'))"
   ]
  },
  {
   "cell_type": "code",
   "execution_count": 33,
   "metadata": {},
   "outputs": [
    {
     "name": "stdout",
     "output_type": "stream",
     "text": [
      "Enter the input values:\n",
      "0.05\n",
      ".01\n"
     ]
    }
   ],
   "source": [
    "input_values = []\n",
    "print('Enter the input values:')\n",
    "for i in range(input_number):\n",
    "    input_values.append(float(input()))\n"
   ]
  },
  {
   "cell_type": "code",
   "execution_count": 6,
   "metadata": {},
   "outputs": [
    {
     "name": "stdout",
     "output_type": "stream",
     "text": [
      "Enter the target output values:\n",
      "0.01\n",
      "0.99\n"
     ]
    }
   ],
   "source": [
    "target_values = []\n",
    "print('Enter the target output values:')\n",
    "for i in range(output_number):\n",
    "    target_values.append(float(input()))\n"
   ]
  },
  {
   "cell_type": "code",
   "execution_count": 7,
   "metadata": {},
   "outputs": [],
   "source": [
    "def weight_between_layers(layer_1, layer_2): #rows give the input layer and column gives output layer\n",
    "    print('Enter the weights between the two layers:')\n",
    "    x = []\n",
    "    for i in range(layer_1):\n",
    "        weights =[]\n",
    "        for j in range(layer_2):\n",
    "            weights.append(float(input()))\n",
    "        x.append(weights)\n",
    "    return x"
   ]
  },
  {
   "cell_type": "code",
   "execution_count": 8,
   "metadata": {},
   "outputs": [
    {
     "name": "stdout",
     "output_type": "stream",
     "text": [
      "Enter the weights between the two layers:\n",
      "0.15\n",
      "0.25\n",
      "0.20\n",
      "0.30\n"
     ]
    }
   ],
   "source": [
    "weights_input_hidden = weight_between_layers(input_number, hidden_number)\n"
   ]
  },
  {
   "cell_type": "code",
   "execution_count": 9,
   "metadata": {},
   "outputs": [
    {
     "name": "stdout",
     "output_type": "stream",
     "text": [
      "Enter the weights between the two layers:\n",
      "0.40\n",
      "0.50\n",
      "0.45\n",
      "0.55\n"
     ]
    }
   ],
   "source": [
    "weights_hidden_output = weight_between_layers(hidden_number, output_number)\n"
   ]
  },
  {
   "cell_type": "code",
   "execution_count": 10,
   "metadata": {},
   "outputs": [
    {
     "name": "stdout",
     "output_type": "stream",
     "text": [
      "[[0.4, 0.5], [0.45, 0.55]]\n"
     ]
    }
   ],
   "source": [
    "print(weights_hidden_output)"
   ]
  },
  {
   "cell_type": "code",
   "execution_count": 11,
   "metadata": {},
   "outputs": [],
   "source": [
    "def find_bias(number):\n",
    "    bias = []\n",
    "    for i in range(number):\n",
    "        print('Enter bias for layer '+ str(i+1))\n",
    "        bias.append(float(input()))\n",
    "    return bias"
   ]
  },
  {
   "cell_type": "code",
   "execution_count": 12,
   "metadata": {},
   "outputs": [
    {
     "name": "stdout",
     "output_type": "stream",
     "text": [
      "Enter bias for layer 1\n",
      "0\n",
      "Enter bias for layer 2\n",
      "0\n"
     ]
    }
   ],
   "source": [
    "bias_input = find_bias(input_number)\n"
   ]
  },
  {
   "cell_type": "code",
   "execution_count": 13,
   "metadata": {},
   "outputs": [
    {
     "name": "stdout",
     "output_type": "stream",
     "text": [
      "Enter bias for layer 1\n",
      "0.35\n",
      "Enter bias for layer 2\n",
      "0.35\n"
     ]
    }
   ],
   "source": [
    "bias_hidden = find_bias(hidden_number)"
   ]
  },
  {
   "cell_type": "code",
   "execution_count": 14,
   "metadata": {},
   "outputs": [
    {
     "name": "stdout",
     "output_type": "stream",
     "text": [
      "Enter bias for layer 1\n",
      "0.60\n",
      "Enter bias for layer 2\n",
      "0.60\n"
     ]
    }
   ],
   "source": [
    "bias_output = find_bias(output_number)"
   ]
  },
  {
   "cell_type": "code",
   "execution_count": 15,
   "metadata": {},
   "outputs": [
    {
     "name": "stdout",
     "output_type": "stream",
     "text": [
      "Input layer after adding bias:\n"
     ]
    },
    {
     "data": {
      "text/plain": [
       "[0.05, 0.1]"
      ]
     },
     "execution_count": 15,
     "metadata": {},
     "output_type": "execute_result"
    }
   ],
   "source": [
    "print('Input layer after adding bias:')\n",
    "copy_input_values = input_values\n",
    "input_values = []\n",
    "for i in range(input_number):\n",
    "    x = copy_input_values[i] + bias_input[i]\n",
    "    input_values.append(x)\n",
    "input_values\n"
   ]
  },
  {
   "cell_type": "code",
   "execution_count": 16,
   "metadata": {},
   "outputs": [
    {
     "name": "stdout",
     "output_type": "stream",
     "text": [
      "Enter the learning rate:\n",
      "0.5\n"
     ]
    }
   ],
   "source": [
    "print('Enter the learning rate:')\n",
    "learning_rate = float(input())\n"
   ]
  },
  {
   "cell_type": "code",
   "execution_count": 17,
   "metadata": {},
   "outputs": [],
   "source": [
    "#import math\n",
    "#def sigmoid(values_of_layer):\n",
    " #   final_answer = []\n",
    "  #  for i in range(len(values_of_layer)):\n",
    "   #     answer = (1 / (1 + math.exp(-values_of_layer[i])))\n",
    "    #    final_answer.append(answer)\n",
    "    #return(final_answer)\n",
    "\n",
    "\n",
    "import math\n",
    "def sigmoid(values):\n",
    "    final_answer = []\n",
    "    for i in range(len(values)):\n",
    "        answer = (1 / (1 + math.exp(-values[i])))\n",
    "        final_answer.append(answer)\n",
    "    return(final_answer)"
   ]
  },
  {
   "cell_type": "code",
   "execution_count": 18,
   "metadata": {},
   "outputs": [],
   "source": [
    "def values(input_layer, output_layer, weights, bias, values_input):\n",
    "    x = []\n",
    "    for i in range(output_layer):\n",
    "        answer = bias[i]\n",
    "        #print(answer)\n",
    "        #print('The value at layer' + str(i+1) + ' is:')\n",
    "        for j in range(input_layer):\n",
    "            answer = answer + (values_input[j] * weights[j][i])\n",
    "        x.append(answer)\n",
    "        #print(answer)\n",
    "        final_answer = sigmoid(x)\n",
    "    #print(final_answer)\n",
    "    return final_answer"
   ]
  },
  {
   "cell_type": "code",
   "execution_count": 19,
   "metadata": {},
   "outputs": [],
   "source": [
    "#hidden_values = values(input_number, hidden_number, weights_input_hidden, bias_hidden, input_values)\n",
    "#hidden_values"
   ]
  },
  {
   "cell_type": "code",
   "execution_count": 20,
   "metadata": {},
   "outputs": [],
   "source": [
    "#output_values = values(hidden_number, output_number, weights_hidden_output, bias_output, hidden_values)\n",
    "#output_values"
   ]
  },
  {
   "cell_type": "code",
   "execution_count": 21,
   "metadata": {},
   "outputs": [],
   "source": [
    "def find_error(target, output):\n",
    "    answer = 0.5 * ((target - output)**2)\n",
    "    return answer"
   ]
  },
  {
   "cell_type": "code",
   "execution_count": 22,
   "metadata": {},
   "outputs": [],
   "source": [
    "def find_total_error(target_values, output_values):\n",
    "    total_error= 0\n",
    "    output_error = []\n",
    "    for i in range(output_number):\n",
    "        answer = find_error(target_values[i], output_values[i])\n",
    "        output_error.append(answer)\n",
    "        total_error = total_error + answer\n",
    "    return (total_error)"
   ]
  },
  {
   "cell_type": "code",
   "execution_count": 23,
   "metadata": {},
   "outputs": [],
   "source": [
    "def diff_between_hidden_and_output_weights(target_o, output_o, output_h, weight):\n",
    "    answer = -(target_o - output_o) * (output_o * (1-output_o)) * output_h\n",
    "    #print(-(target_o - output_o))\n",
    "    #print(answer)\n",
    "    #print(weight)\n",
    "    final_change = weight -(learning_rate * answer)\n",
    "    return final_change"
   ]
  },
  {
   "cell_type": "code",
   "execution_count": 24,
   "metadata": {},
   "outputs": [],
   "source": [
    "def func_new_weights_hidden_output(output_values, hidden_values):\n",
    "    new_weights_hidden_output = []\n",
    "    for i in range(len(weights_hidden_output)):\n",
    "        x = []\n",
    "        for j in range(len(weights_hidden_output[i])):\n",
    "            target_o = target_values[j]\n",
    "            output_o = output_values[j]\n",
    "            output_h = hidden_values[i]\n",
    "            x.append(diff_between_hidden_and_output_weights(target_o, output_o, output_h, weights_hidden_output[i][j]))\n",
    "        new_weights_hidden_output.append(x)\n",
    "    return new_weights_hidden_output"
   ]
  },
  {
   "cell_type": "code",
   "execution_count": 25,
   "metadata": {},
   "outputs": [],
   "source": [
    "def diff_between_input_and_hidden_weights(output_h, input_i, hidden_layer_number,w, weight, output_values):\n",
    "    summation = 0\n",
    "    for i in range(output_number):\n",
    "        summation = summation + (-(target_values[i] - output_values[i]) * (output_values[i] * (1-output_values[i])) * w[hidden_layer_number][i])    \n",
    "    answer = summation * (output_h * (1-output_h)) * input_i\n",
    "    #print(-(target_o - output_o))\n",
    "    #print(answer)\n",
    "    #print(weight)\n",
    "    final_change = weight -(learning_rate * answer)\n",
    "    return final_change"
   ]
  },
  {
   "cell_type": "code",
   "execution_count": 26,
   "metadata": {},
   "outputs": [],
   "source": [
    "def func_new_weights_input_hidden(hidden_values, output_values):\n",
    "    new_weights_input_hidden = []\n",
    "    for i in range(len(weights_input_hidden)):\n",
    "        x = []\n",
    "        for j in range(len(weights_input_hidden[i])):\n",
    "            hidden_layer_number = int(j)\n",
    "            #print(hidden_layer_number)\n",
    "            #target_o = target_values[j]\n",
    "            #output_o = output_values[j]\n",
    "            output_h = hidden_values[j]\n",
    "            input_i = input_values[i]\n",
    "            x.append(diff_between_input_and_hidden_weights(output_h, input_i, hidden_layer_number, weights_hidden_output, weights_input_hidden[i][j],output_values))\n",
    "        new_weights_input_hidden.append(x)\n",
    "    return new_weights_input_hidden"
   ]
  },
  {
   "cell_type": "code",
   "execution_count": 27,
   "metadata": {},
   "outputs": [],
   "source": [
    "def repeat_process(weights_input_hidden, weights_hidden_output):\n",
    "    #weights_input_hidden = new_weights_input_hidden\n",
    "    #weights_hidden_output = new_weights_hidden_output\n",
    "    hidden_values = values(input_number, hidden_number, weights_input_hidden, bias_hidden, input_values)\n",
    "    #print(hidden_values)\n",
    "    output_values = values(hidden_number, output_number, weights_hidden_output, bias_output, hidden_values)\n",
    "    #print(output_values)\n",
    "    total_error = find_total_error(target_values, output_values)\n",
    "    #print(total_error)\n",
    "    #if output_values == [0.015914749718873036, 0.9840631510008705]:\n",
    "     #   print('The output values are:')\n",
    "      #  print(output_values)\n",
    "       # #print('The total error is '+ total_error)\n",
    "       # flag = False    \n",
    "    weights_input_hidden = func_new_weights_input_hidden(hidden_values, output_values)\n",
    "    #print(weights_input_hidden)\n",
    "    weights_hidden_output = func_new_weights_hidden_output(output_values, hidden_values)\n",
    "    #print(weights_hidden_output)\n",
    "    return (weights_input_hidden, weights_hidden_output, output_values, total_error)\n"
   ]
  },
  {
   "cell_type": "code",
   "execution_count": 28,
   "metadata": {},
   "outputs": [
    {
     "name": "stdout",
     "output_type": "stream",
     "text": [
      "Set the value of epoch: 10000\n",
      "The output values are:\n",
      "[0.015914185034957177, 0.9840637123033571]\n",
      "The total error is: 3.51085e-05\n"
     ]
    }
   ],
   "source": [
    "flag = True\n",
    "count = 0\n",
    "epoch = int(input('Set the value of epoch: '))\n",
    "#while flag == True:\n",
    "for i in range(epoch):\n",
    "    count = count + 1\n",
    "    #print(count)\n",
    "    weights_input_hidden, weights_hidden_output, output_values, total_error = repeat_process(weights_input_hidden, weights_hidden_output)\n",
    "\n",
    "print('The output values are:')\n",
    "print(output_values)\n",
    "total_error = round(total_error,10)\n",
    "print('The total error is: '+ str(total_error))\n"
   ]
  },
  {
   "cell_type": "code",
   "execution_count": null,
   "metadata": {},
   "outputs": [],
   "source": []
  },
  {
   "cell_type": "code",
   "execution_count": null,
   "metadata": {},
   "outputs": [],
   "source": []
  }
 ],
 "metadata": {
  "kernelspec": {
   "display_name": "Python 3",
   "language": "python",
   "name": "python3"
  },
  "language_info": {
   "codemirror_mode": {
    "name": "ipython",
    "version": 3
   },
   "file_extension": ".py",
   "mimetype": "text/x-python",
   "name": "python",
   "nbconvert_exporter": "python",
   "pygments_lexer": "ipython3",
   "version": "3.7.4"
  }
 },
 "nbformat": 4,
 "nbformat_minor": 2
}
